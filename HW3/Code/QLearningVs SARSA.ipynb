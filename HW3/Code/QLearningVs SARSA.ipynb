{
 "cells": [
  {
   "cell_type": "code",
   "execution_count": 1,
   "metadata": {},
   "outputs": [],
   "source": [
    "import numpy as np\n",
    "import matplotlib.pyplot as plt\n",
    "import random\n",
    "import copy\n",
    "from tqdm import tqdm_notebook as tqdm"
   ]
  },
  {
   "attachments": {
    "image.png": {
     "image/png": "[encoded data removed]"
    }
   },
   "cell_type": "markdown",
   "metadata": {},
   "source": [
    "### Cliff Walking\n",
    "\n",
    "![image.png](attachment:image.png)\n",
    "\n",
    "<ol>\n",
    "    <li>This is grid World Environment. In which we Agent has to reach from Start to Goal. </li>\n",
    "    <li>At every cell there are 4 option Up, Down, left and right.</li>\n",
    "    <li>Every step gives you a reward of -1. except when you fall in the cliff.</li>\n",
    "    <li>When you fall in th cliff. Episode restarts</li>\n",
    "</ol>"
   ]
  },
  {
   "cell_type": "code",
   "execution_count": 2,
   "metadata": {},
   "outputs": [],
   "source": [
    "class cliffWalking():\n",
    "    \n",
    "    def __init__(self,rows,col):\n",
    "        '''\n",
    "        initialize valiue for state value and other constant throught episode\n",
    "        '''\n",
    "        self.rows = rows\n",
    "        self.col = col\n",
    "        # 0: UP, 1:down, 2: left , 3: right\n",
    "        self.actions = [0,1,2,3] \n",
    "#         self.actions = self.actions()\n",
    "        #location for the cliff inthe grid\n",
    "        self.clifRow = self.rows-1\n",
    "        self.clifCol = [i for i in range(1,self.col-1)]\n",
    "        self.QValues = self.initializeQvalues()\n",
    "        \n",
    "    def initializeQvalues(self):\n",
    "        '''\n",
    "        method to initialze the grid world\n",
    "        '''\n",
    "        qValues = dict()\n",
    "        for i in range(0,self.rows):\n",
    "            for j in range(0,self.col):\n",
    "                #Action can move in 4 direction that is why list of len 4\n",
    "                qValues[(i,j)] = np.zeros(4)\n",
    "        return qValues\n",
    "    \n",
    "    def actions(self):\n",
    "        '''\n",
    "        Method to define possible action for each state\n",
    "        '''\n",
    "        stateAction =  dict()\n",
    "        for i in range(0,self.rows):\n",
    "            for j in range(0,self.col):\n",
    "                action = []\n",
    "                if i!=0:\n",
    "                    action.append(0) #Up action\n",
    "                if i!= self.rows-1:\n",
    "                     action.append(1) #down action\n",
    "                if j !=0:\n",
    "                    action.append(2) #Up action\n",
    "                if j != self.col-1:\n",
    "                     action.append(3) #down action\n",
    "                stateAction[(i,j)] = action\n",
    "        return stateAction \n",
    "    \n",
    "    def selectAction(self,state,epsilon):\n",
    "        '''\n",
    "        Select action with epsilon greedy based on Q values\n",
    "        '''\n",
    "        #with probabilty of (1-Epsilon) select best arm otherwise select any arm at random\n",
    "        if random.random() < epsilon: \n",
    "            action = np.random.choice(self.actions)\n",
    "        else : \n",
    "            action = np.argmax(self.QValues[state])\n",
    "        return action\n",
    "    \n",
    "    def nextState(self,state,action,isEnd):\n",
    "        '''\n",
    "        Based on the state and action we have to find the next state\n",
    "        '''\n",
    "        state = list(state)\n",
    "        if action == 0: #UP\n",
    "            state[0] -= 1\n",
    "            if state[0] < 0:\n",
    "                state[0] = 0\n",
    "                reward = -1\n",
    "            else:\n",
    "                reward = -1\n",
    "            \n",
    "        if action == 1 : #down\n",
    "            state[0] += 1\n",
    "            if state[0] >= self.rows:\n",
    "                state[0] = self.rows-1\n",
    "                reward = -1\n",
    "            else:\n",
    "                reward = -1\n",
    "        \n",
    "        if action == 2: #left\n",
    "            state[1] -= 1\n",
    "            if state[1] < 0:\n",
    "                state[1] = 0\n",
    "                reward = -1\n",
    "            else:\n",
    "                reward = -1\n",
    "        \n",
    "        if action == 3: # right\n",
    "            state[1] += 1\n",
    "            if state[1] >= self.col:\n",
    "                state[1] = self.col-1\n",
    "                reward = -1\n",
    "            else:\n",
    "                reward = -1\n",
    "        #Condition when episode is going to end\n",
    "        if state[0] == self.clifRow and state[1] in self.clifCol:\n",
    "            isEnd = True\n",
    "            reward = -100\n",
    "        elif state[0] == self.rows-1 and state[1] == self.col-1 :\n",
    "            isEnd = True\n",
    "            reward = -1\n",
    "            \n",
    "        return tuple(state), reward,isEnd\n",
    "  \n",
    "    def showGrid(self):\n",
    "        '''\n",
    "        Method to prin the Grid\n",
    "        '''\n",
    "        mapp = {0: 'U',1: 'D',2:'L',3:'R'}\n",
    "        print(\"*****************************************\")\n",
    "        for i in range(0,self.rows):\n",
    "            strt = \"\"\n",
    "            for j in range(0,self.col):\n",
    "                if i == self.rows-1 and j == 0:\n",
    "                    strt += \" |S\"\n",
    "                elif i == self.rows-1 and j == self.col - 1:\n",
    "                    strt += \" |G\"\n",
    "                elif i == self.rows-1:\n",
    "                    strt += \" |C\"\n",
    "                else:\n",
    "                    strt += \" |\" + str(mapp[np.argmax(self.QValues[i,j])])\n",
    "            strt += \"|\"\n",
    "            print(strt)\n",
    "        print(\"*****************************************\")"
   ]
  },
  {
   "cell_type": "code",
   "execution_count": 3,
   "metadata": {},
   "outputs": [],
   "source": [
    "def SARSA(ep,alpha,showGrid = False):\n",
    "    '''\n",
    "    Method to compute the state action values through SARSA.\n",
    "    '''\n",
    "    cw = cliffWalking(4,12)\n",
    "    rewardList = []\n",
    "    for i in range(500):\n",
    "        S = (cw.rows-1,0)\n",
    "        A = cw.selectAction(S,ep)\n",
    "        rewardSum = 0\n",
    "        isEnd = False\n",
    "        while not isEnd:\n",
    "            sDash,R,isEnd = cw.nextState(S,A,isEnd)\n",
    "            aDash = cw.selectAction(sDash,ep)\n",
    "            rewardSum += R\n",
    "            cw.QValues[S][A] = cw.QValues[S][A] + alpha * (R  + cw.QValues[sDash][aDash] - cw.QValues[S][A]) \n",
    "            S = sDash\n",
    "            A = aDash\n",
    "        rewardList.append(rewardSum)\n",
    "    if showGrid == True:\n",
    "        print(\"SARSA Grid\")\n",
    "        cw.showGrid()\n",
    "    return rewardList"
   ]
  },
  {
   "cell_type": "code",
   "execution_count": 4,
   "metadata": {},
   "outputs": [],
   "source": [
    "def QLearning(ep,alpha,showGrid = False):\n",
    "    '''\n",
    "    Method to compute the state action values through Q Learning.\n",
    "    '''\n",
    "    cw = cliffWalking(4,12)\n",
    "    rewardList = []\n",
    "    for i in range(500):\n",
    "        S = (cw.rows-1,0)\n",
    "        rewardSum = 0\n",
    "        isEnd = False\n",
    "        while not isEnd:\n",
    "            A = cw.selectAction(S,ep)\n",
    "            sDash,R,isEnd = cw.nextState(S,A,isEnd)\n",
    "            rewardSum += R\n",
    "            cw.QValues[S][A] = cw.QValues[S][A] + alpha * (R  + np.max(cw.QValues[sDash]) - cw.QValues[S][A]) \n",
    "            S = sDash\n",
    "        rewardList.append(rewardSum)  \n",
    "    if showGrid == True:\n",
    "        print(\"Q Learning Grid\")\n",
    "        cw.showGrid()\n",
    "    return rewardList"
   ]
  },
  {
   "cell_type": "code",
   "execution_count": 5,
   "metadata": {},
   "outputs": [
    {
     "name": "stdout",
     "output_type": "stream",
     "text": [
      "SARSA Grid\n",
      "*****************************************\n",
      " |U |R |R |R |R |R |R |R |R |R |R |D|\n",
      " |R |R |R |R |R |R |R |R |R |R |R |D|\n",
      " |U |U |U |U |L |U |U |R |L |R |R |D|\n",
      " |S |C |C |C |C |C |C |C |C |C |C |G|\n",
      "*****************************************\n",
      "Q Learning Grid\n",
      "*****************************************\n",
      " |L |R |R |D |R |U |R |U |U |U |R |D|\n",
      " |R |R |R |R |R |R |R |R |D |R |R |D|\n",
      " |R |R |R |R |R |R |R |R |R |R |R |D|\n",
      " |S |C |C |C |C |C |C |C |C |C |C |G|\n",
      "*****************************************\n"
     ]
    }
   ],
   "source": [
    "ep = 0.1\n",
    "alpha = 0.1\n",
    "SARSAReward = SARSA(ep,alpha,True)\n",
    "QLearnReward = QLearning(ep,alpha,True)"
   ]
  },
  {
   "cell_type": "code",
   "execution_count": 7,
   "metadata": {},
   "outputs": [
    {
     "data": {
      "application/vnd.jupyter.widget-view+json": {
       "model_id": "3a7b73adf50d4780a008f0ec6056e56b",
       "version_major": 2,
       "version_minor": 0
      },
      "text/plain": [
       "HBox(children=(IntProgress(value=0, max=500), HTML(value='')))"
      ]
     },
     "metadata": {},
     "output_type": "display_data"
    },
    {
     "name": "stdout",
     "output_type": "stream",
     "text": [
      "\n"
     ]
    }
   ],
   "source": [
    "ep = 0.1\n",
    "alpha = 0.1\n",
    "iteration = 500\n",
    "SARSARewardAvg = np.zeros(500)\n",
    "QLearnRewardAvg = np.zeros(500)\n",
    "\n",
    "for i in tqdm(range(iteration)):\n",
    "    SARSAReward = SARSA(ep,alpha)\n",
    "    SARSARewardAvg += SARSAReward  \n",
    "    QLearnReward = QLearning(ep,alpha)\n",
    "    QLearnRewardAvg += QLearnReward\n",
    "\n",
    "SARSARewardAvg /= iteration\n",
    "QLearnRewardAvg /= iteration"
   ]
  },
  {
   "cell_type": "code",
   "execution_count": 10,
   "metadata": {
    "scrolled": true
   },
   "outputs": [
    {
     "data": {
      "image/png": "[encoded data removed]",
      "text/plain": [
       "<Figure size 432x288 with 1 Axes>"
      ]
     },
     "metadata": {
      "needs_background": "light"
     },
     "output_type": "display_data"
    }
   ],
   "source": [
    "plt.plot(SARSARewardAvg,label = \"SARSA\")\n",
    "plt.plot(QLearnRewardAvg,label = \"Q Learning\")\n",
    "plt.legend()\n",
    "#plt.yticks([-100,-75,-50,-25])\n",
    "plt.show()"
   ]
  },
  {
   "cell_type": "code",
   "execution_count": null,
   "metadata": {},
   "outputs": [],
   "source": []
  }
 ],
 "metadata": {
  "kernelspec": {
   "display_name": "Python 3",
   "language": "python",
   "name": "python3"
  },
  "language_info": {
   "codemirror_mode": {
    "name": "ipython",
    "version": 3
   },
   "file_extension": ".py",
   "mimetype": "text/x-python",
   "name": "python",
   "nbconvert_exporter": "python",
   "pygments_lexer": "ipython3",
   "version": "3.7.3"
  }
 },
 "nbformat": 4,
 "nbformat_minor": 2
}
