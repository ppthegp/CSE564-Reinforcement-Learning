{
 "cells": [
  {
   "cell_type": "code",
   "execution_count": 39,
   "metadata": {},
   "outputs": [],
   "source": [
    "from scipy.optimize import fsolve\n",
    "from scipy.special import softmax\n",
    "import numpy as np"
   ]
  },
  {
   "attachments": {
    "image.png": {
     "image/png": "[encoded data removed]"
    }
   },
   "cell_type": "markdown",
   "metadata": {},
   "source": [
    "![image.png](attachment:image.png)\n",
    "\n",
    "Above image shows a rectangular gridworld representation of a simple finite MDP. \n",
    "<ol>\n",
    "<li>The cells of the grid correspond to the states of the environment.</li>\n",
    "<li>Ateach cell, four actions are possible: <b>north, south, east, and west</b>, which deterministically cause the agent to move one cell in the respective direction on the grid.</li>\n",
    "<li>Actions that would take the agent out of the grid leave its location unchanged, but also result in a reward of −1.</li>\n",
    "<li>Other actions result in a reward of 0, except those that move the agent out of the special states A and B. </li>\n",
    "<li>From state A, all four actions yield a reward of +10 and take the agent to A'. From state B, all actions yield a reward of +5 and take the agent to B'. </li>\n",
    "</ol>"
   ]
  },
  {
   "attachments": {
    "image.png": {
     "image/png": "[encoded data removed]"
    }
   },
   "cell_type": "markdown",
   "metadata": {},
   "source": [
    "We used below formula to from below non-linear equation and then solve those\n",
    "![image.png](attachment:image.png)\n"
   ]
  },
  {
   "cell_type": "code",
   "execution_count": 33,
   "metadata": {},
   "outputs": [],
   "source": [
    "def func(x):\n",
    "    '''\n",
    "        for each state we have taken all the posible action and then formed the equation\n",
    "        '''\n",
    "    eq = [\n",
    "        x[0]-np.max([(-1 + .9*x[0]),(-1 + .9*x[0]),(.9*x[1]),(.9*x[5])]), \n",
    "        x[1]-10- .9*x[21],\n",
    "        x[2]-np.max([(.9*x[1]),(.9 *x[2] - .25),(.9*x[3]),(.9*x[7])]),\n",
    "        x[3]- 5 -.9*x[13],\n",
    "        x[4]-np.max([(-1 + .9*x[4]),(-1 + .9*x[4]),(.9*x[3]),(.9*x[9])]),\n",
    "        x[5]-np.max([(-1 + .9*x[5]),(.9*x[0]),(.9*x[10]),(.9*x[6])]),\n",
    "        x[6]-np.max([(.9*x[1]),(.9*x[7]),(.9*x[11]),(.9*x[5])]),\n",
    "        x[7]-np.max([(.9*x[2]),(.9*x[8]),(.9*x[12]),(.9*x[6])]),\n",
    "        x[8]-np.max([(.9*x[3]),(.9*x[9]),(.9*x[13]),(.9*x[7])]),\n",
    "        x[9]-np.max([(-1 + .9*x[9]),(.9*x[4]),(.9*x[14]),(.9*x[8])]),\n",
    "        x[10]-np.max([(.9*x[5]),(.9*x[11]),(.9*x[15]),(.9*x[10]-1)]),\n",
    "        x[11]-np.max([(.9*x[6]),(.9*x[12]),(.9*x[16]),(.9*x[10])]),\n",
    "        x[12]-np.max([(.9*x[7]),(.9*x[13]),(.9*x[17]),(.9*x[11])]),\n",
    "        x[13]-np.max([(.9*x[8]),(.9*x[14]),(.9*x[18]),(.9*x[12])]),\n",
    "        x[14]-np.max([(.9*x[9]),(.9*x[14]-1),(.9*x[19]),(.9*x[13])]),\n",
    "        x[15]-np.max([(.9*x[10]),(.9*x[16]),(.9*x[20]),(.9*x[15]-1)]),\n",
    "        x[16]-np.max([(.9*x[11]),(.9*x[17]),(.9*x[21]),(.9*x[15])]),\n",
    "        x[17]-np.max([(.9*x[12]),(.9*x[18]),(.9*x[22]),(.9*x[16])]),\n",
    "        x[18]-np.max([(.9*x[13]),(.9*x[19]),(.9*x[23]),(.9*x[17])]),\n",
    "        x[19]-np.max([(.9*x[14]),(.9*x[19]-1),(.9*x[24]),(.9*x[18])]),\n",
    "        x[20]-np.max([(.9*x[15]),(.9*x[21]),(.9*x[20]-1),(.9*x[20]-1)]),\n",
    "        x[21]-np.max([(.9*x[16]),(.9*x[22]),(.9*x[21]-1),(.9*x[20])]),\n",
    "        x[22]-np.max([(.9*x[17]),(.9*x[23]),(.9*x[22]-1),(.9*x[21])]),\n",
    "        x[23]-np.max([(.9*x[18]),(.9*x[24]),(.9*x[23]-1),(.9*x[22])]),\n",
    "        x[24]-np.max([(.9*x[19]),(.9*x[23]),(.9*x[24]-1),(.9*x[24]-1)]),\n",
    "         ]\n",
    "    return eq "
   ]
  },
  {
   "cell_type": "code",
   "execution_count": 34,
   "metadata": {},
   "outputs": [],
   "source": [
    "'''\n",
    "fsolve will be used to solve the euation\n",
    "'''\n",
    "initialvalues = np.ones(25)\n",
    "values = fsolve(func, initialvalues)"
   ]
  },
  {
   "cell_type": "code",
   "execution_count": 35,
   "metadata": {},
   "outputs": [],
   "source": [
    "vs = np.round(values.reshape(5,5),1)"
   ]
  },
  {
   "cell_type": "code",
   "execution_count": 36,
   "metadata": {},
   "outputs": [
    {
     "name": "stdout",
     "output_type": "stream",
     "text": [
      "[[22.  24.4 22.  19.4 17.5]\n",
      " [19.8 22.  19.8 17.8 16. ]\n",
      " [17.8 19.8 17.8 16.  14.4]\n",
      " [16.  17.8 16.  14.4 13. ]\n",
      " [14.4 16.  14.4 13.  11.7]]\n"
     ]
    }
   ],
   "source": [
    "print(vs)"
   ]
  },
  {
   "cell_type": "markdown",
   "metadata": {},
   "source": [
    "### Now we have to find Optimal policy"
   ]
  },
  {
   "cell_type": "code",
   "execution_count": 51,
   "metadata": {},
   "outputs": [
    {
     "name": "stdout",
     "output_type": "stream",
     "text": [
      "Probability of each action in Cell( i, j ) are: [N  E  S  W ]\n",
      "Probability of each action in Cell( 0 , 0 ) are: [0. 1. 0. 0.]\n",
      "Probability of each action in Cell( 0 , 1 ) are: [0.25 0.25 0.25 0.25]\n",
      "Probability of each action in Cell( 0 , 2 ) are: [0. 0. 0. 1.]\n",
      "Probability of each action in Cell( 0 , 3 ) are: [0.25 0.25 0.25 0.25]\n",
      "Probability of each action in Cell( 0 , 4 ) are: [0. 0. 0. 1.]\n",
      "Probability of each action in Cell( 1 , 0 ) are: [0.5 0.5 0.  0. ]\n",
      "Probability of each action in Cell( 1 , 1 ) are: [1. 0. 0. 0.]\n",
      "Probability of each action in Cell( 1 , 2 ) are: [0.5 0.  0.  0.5]\n",
      "Probability of each action in Cell( 1 , 3 ) are: [0. 0. 0. 1.]\n",
      "Probability of each action in Cell( 1 , 4 ) are: [0. 0. 0. 1.]\n",
      "Probability of each action in Cell( 2 , 0 ) are: [0.5 0.5 0.  0. ]\n",
      "Probability of each action in Cell( 2 , 1 ) are: [1. 0. 0. 0.]\n",
      "Probability of each action in Cell( 2 , 2 ) are: [0.5 0.  0.  0.5]\n",
      "Probability of each action in Cell( 2 , 3 ) are: [0.5 0.  0.  0.5]\n",
      "Probability of each action in Cell( 2 , 4 ) are: [0.5 0.  0.  0.5]\n",
      "Probability of each action in Cell( 3 , 0 ) are: [0.5 0.5 0.  0. ]\n",
      "Probability of each action in Cell( 3 , 1 ) are: [1. 0. 0. 0.]\n",
      "Probability of each action in Cell( 3 , 2 ) are: [0.5 0.  0.  0.5]\n",
      "Probability of each action in Cell( 3 , 3 ) are: [0.5 0.  0.  0.5]\n",
      "Probability of each action in Cell( 3 , 4 ) are: [0.5 0.  0.  0.5]\n",
      "Probability of each action in Cell( 4 , 0 ) are: [0.5 0.5 0.  0. ]\n",
      "Probability of each action in Cell( 4 , 1 ) are: [1. 0. 0. 0.]\n",
      "Probability of each action in Cell( 4 , 2 ) are: [0.5 0.  0.  0.5]\n",
      "Probability of each action in Cell( 4 , 3 ) are: [0.5 0.  0.  0.5]\n",
      "Probability of each action in Cell( 4 , 4 ) are: [0.5 0.  0.  0.5]\n"
     ]
    }
   ],
   "source": [
    "print(\"Probability of each action in Cell( i, j ) are: [N  E  S  W ]\")\n",
    "for i in range(5):\n",
    "    for j in range(5):\n",
    "        if(i == 0 and j==1):\n",
    "            values  = [vs[4,1]]*4\n",
    "        elif (i == 0 and j==3):\n",
    "            values  = [vs[2,3]]*4\n",
    "        else:\n",
    "            ip = i+1 if i+1 < 5 else i\n",
    "            jp = j+1 if j+1 < 5 else j\n",
    "            im = i-1 if i-1 >= 0 else i\n",
    "            jm = j-1 if j-1 >= 0 else j\n",
    "            values  = [vs[im,j],vs[i,jp],vs[ip,j],vs[i,jm]]\n",
    "#         print(values)\n",
    "        maxv = np.max(values)\n",
    "#         print(maxv)\n",
    "        values = (values == maxv).astype(int)\n",
    "#         print(values)\n",
    "        prob = 1/np.sum(values)\n",
    "#         print(prob)\n",
    "        values = prob * values\n",
    "        \n",
    "        print(\"Probability of each action in Cell(\",i,\",\",j,\") are:\", values)\n",
    "        "
   ]
  },
  {
   "cell_type": "code",
   "execution_count": null,
   "metadata": {},
   "outputs": [],
   "source": []
  }
 ],
 "metadata": {
  "kernelspec": {
   "display_name": "Python 3",
   "language": "python",
   "name": "python3"
  },
  "language_info": {
   "codemirror_mode": {
    "name": "ipython",
    "version": 3
   },
   "file_extension": ".py",
   "mimetype": "text/x-python",
   "name": "python",
   "nbconvert_exporter": "python",
   "pygments_lexer": "ipython3",
   "version": "3.7.3"
  }
 },
 "nbformat": 4,
 "nbformat_minor": 2
}
