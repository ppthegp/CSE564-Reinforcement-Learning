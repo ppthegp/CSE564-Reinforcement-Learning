{
 "cells": [
  {
   "cell_type": "code",
   "execution_count": 1,
   "metadata": {},
   "outputs": [],
   "source": [
    "import numpy as np\n",
    "import pandas as pd"
   ]
  },
  {
   "cell_type": "markdown",
   "metadata": {},
   "source": [
    "### Initializing the coefficient matrix to solve the equation \n",
    "\n",
    "First we have to make a coefficient matrix which stores the coefficient of all the equaiton. "
   ]
  },
  {
   "cell_type": "code",
   "execution_count": 2,
   "metadata": {},
   "outputs": [],
   "source": [
    "c = np.zeros((25,25))"
   ]
  },
  {
   "cell_type": "code",
   "execution_count": 3,
   "metadata": {},
   "outputs": [],
   "source": [
    "'''\n",
    "for state 1 to 5\n",
    "'''\n",
    "#for state s1\n",
    "c[0,0] = 0.55\n",
    "c[0,1] = -0.225\n",
    "c[0,5] = -0.225\n",
    "\n",
    "#for state s2\n",
    "c[1,1] = 1\n",
    "c[1,21] = -0.9\n",
    "\n",
    "#for state s3\n",
    "c[2,2] = 0.775\n",
    "c[2,1] = -0.225\n",
    "c[2,3] = -0.225\n",
    "c[2,7] = -0.225\n",
    "\n",
    "#for state s4\n",
    "c[3,3] = 1\n",
    "c[3,13] = -0.9\n",
    "\n",
    "#for state s5\n",
    "c[4,4] = 0.55\n",
    "c[4,3] = -.225\n",
    "c[4,9]=  -.225"
   ]
  },
  {
   "cell_type": "code",
   "execution_count": 4,
   "metadata": {},
   "outputs": [],
   "source": [
    "'''\n",
    "for state 6 to 10\n",
    "'''\n",
    "#for state s6\n",
    "c[5,5]=0.775\n",
    "c[5,0]=-.225\n",
    "c[5,10] = -.225\n",
    "c[5,6] = -.225\n",
    "\n",
    "#for state s7\n",
    "c[6,6] = 1\n",
    "c[6,1] = -.225\n",
    "c[6,7] = -.225\n",
    "c[6,11] = -.225\n",
    "c[6,5] = -.225\n",
    "\n",
    "#for state s8\n",
    "c[7,7] = 1\n",
    "c[7,2] = -.225\n",
    "c[7,8] = -.225\n",
    "c[7,12] = -.225\n",
    "c[7,6] = -.225\n",
    "\n",
    "#for state s9\n",
    "c[8,8] = 1\n",
    "c[8,3] = -.225\n",
    "c[8,9] = -.225\n",
    "c[8,13] = -.225\n",
    "c[8,7] = -.225\n",
    " \n",
    "#for state s10\n",
    "c[9,9] = .775\n",
    "c[9,4] = -.225\n",
    "c[9,14] = -.225\n",
    "c[9,8] = -.225"
   ]
  },
  {
   "cell_type": "code",
   "execution_count": 5,
   "metadata": {},
   "outputs": [],
   "source": [
    "'''\n",
    "for state 10 to 15\n",
    "'''\n",
    "#for state s11\n",
    "c[10,10] = .775\n",
    "c[10,5]=  -.225\n",
    "c[10,11]= -.225\n",
    "c[10,15]= -.225\n",
    "\n",
    "#for state s12\n",
    "c[11,11] = 1\n",
    "c[11,6] = -.225\n",
    "c[11,12] = -.225\n",
    "c[11,16] = -.225\n",
    "c[11,10] = -.225\n",
    "\n",
    "#for state s13\n",
    "c[12,12] = 1\n",
    "c[12,7] =  -.225\n",
    "c[12,13] = -.225\n",
    "c[12,17] = -.225\n",
    "c[12,11] = -.225\n",
    "\n",
    "#for state s14\n",
    "c[13,13] = 1\n",
    "c[13,8] = -.225\n",
    "c[13,14] = -.225\n",
    "c[13,18] = -.225\n",
    "c[13,12] = -.225\n",
    "\n",
    "#for state s15\n",
    "c[14,14] = .775\n",
    "c[14,9]=  -.225\n",
    "c[14,19]= -.225\n",
    "c[14,13]= -.225"
   ]
  },
  {
   "cell_type": "code",
   "execution_count": 6,
   "metadata": {},
   "outputs": [],
   "source": [
    "'''\n",
    "for state 16 to 20\n",
    "'''\n",
    "#for state s16\n",
    "c[15,15] = .775\n",
    "c[15,10]= -.225\n",
    "c[15,16]= -.225\n",
    "c[15,20]= -.225\n",
    "\n",
    "#for state s17\n",
    "c[16,16] = 1\n",
    "c[16,11] = -.225\n",
    "c[16,17] = -.225\n",
    "c[16,21] = -.225\n",
    "c[16,15] = -.225\n",
    "\n",
    "#for state s18\n",
    "c[17,17] = 1\n",
    "c[17,12] = -.225\n",
    "c[17,18] = -.225\n",
    "c[17,22] = -.225\n",
    "c[17,16] = -.225\n",
    "\n",
    "#for state s19\n",
    "c[18,18] = 1\n",
    "c[18,13] = -.225\n",
    "c[18,19] = -.225\n",
    "c[18,23] = -.225\n",
    "c[18,17] = -.225\n",
    "\n",
    "#for state s20\n",
    "c[19,19] = .775\n",
    "c[19,14]= -.225\n",
    "c[19,24]= -.225\n",
    "c[19,18]= -.225"
   ]
  },
  {
   "cell_type": "code",
   "execution_count": 7,
   "metadata": {},
   "outputs": [],
   "source": [
    "'''\n",
    "for state 16 to 20\n",
    "'''\n",
    "#for state s21\n",
    "c[20,20] = .55\n",
    "c[20,15]= -.225\n",
    "c[20,21]= -.225\n",
    "\n",
    "#for state s22\n",
    "c[21,21] = .775\n",
    "c[21,16] = -.225\n",
    "c[21,22] = -.225\n",
    "c[21,20] = -.225\n",
    "\n",
    "#for state s23\n",
    "c[22,22] = .775\n",
    "c[22,17] = -.225\n",
    "c[22,23] = -.225\n",
    "c[22,21] = -.225\n",
    "\n",
    "#for state s24\n",
    "c[23,23] = .775\n",
    "c[23,18] = -.225\n",
    "c[23,24] = -.225\n",
    "c[23,22] = -.225\n",
    "\n",
    "#for state s24\n",
    "c[24,24] = .55\n",
    "c[24,19]= -.225\n",
    "c[24,23]= -.225"
   ]
  },
  {
   "cell_type": "code",
   "execution_count": 8,
   "metadata": {},
   "outputs": [],
   "source": [
    "#print(pd.DataFrame(c))"
   ]
  },
  {
   "cell_type": "markdown",
   "metadata": {},
   "source": [
    "### Define other matrix and Solve the equation\n",
    "\n",
    "The formula which is given in the report is used"
   ]
  },
  {
   "cell_type": "code",
   "execution_count": 9,
   "metadata": {},
   "outputs": [],
   "source": [
    "x = np.array([-.5,10,-.25,5,-.5,-.25,0,0,0,-.25,-.25,0,0,0,-.25,-.25,0,0,0,-.25,-.5,-.25,-.25,-.25,-.5])\n",
    "x = x.reshape(25,1)"
   ]
  },
  {
   "cell_type": "code",
   "execution_count": 10,
   "metadata": {},
   "outputs": [],
   "source": [
    "inverse = np.linalg.inv(c)"
   ]
  },
  {
   "cell_type": "code",
   "execution_count": 11,
   "metadata": {},
   "outputs": [
    {
     "name": "stdout",
     "output_type": "stream",
     "text": [
      "(25, 25) (25, 1)\n"
     ]
    }
   ],
   "source": [
    "print(c.shape,x.shape)"
   ]
  },
  {
   "cell_type": "code",
   "execution_count": 12,
   "metadata": {},
   "outputs": [],
   "source": [
    "values = np.matmul(inverse,x).reshape(5,5)"
   ]
  },
  {
   "cell_type": "code",
   "execution_count": 14,
   "metadata": {},
   "outputs": [
    {
     "data": {
      "text/plain": [
       "array([[ 3.3,  8.8,  4.4,  5.3,  1.5],\n",
       "       [ 1.5,  3. ,  2.3,  1.9,  0.5],\n",
       "       [ 0.1,  0.7,  0.7,  0.4, -0.4],\n",
       "       [-1. , -0.4, -0.4, -0.6, -1.2],\n",
       "       [-1.9, -1.3, -1.2, -1.4, -2. ]])"
      ]
     },
     "execution_count": 14,
     "metadata": {},
     "output_type": "execute_result"
    }
   ],
   "source": [
    "np.round(values,1)"
   ]
  },
  {
   "cell_type": "code",
   "execution_count": null,
   "metadata": {},
   "outputs": [],
   "source": []
  }
 ],
 "metadata": {
  "kernelspec": {
   "display_name": "Python 3",
   "language": "python",
   "name": "python3"
  },
  "language_info": {
   "codemirror_mode": {
    "name": "ipython",
    "version": 3
   },
   "file_extension": ".py",
   "mimetype": "text/x-python",
   "name": "python",
   "nbconvert_exporter": "python",
   "pygments_lexer": "ipython3",
   "version": "3.7.3"
  }
 },
 "nbformat": 4,
 "nbformat_minor": 2
}
